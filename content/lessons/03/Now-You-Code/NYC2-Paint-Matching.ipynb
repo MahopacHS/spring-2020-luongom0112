{
  "cells": [
    {
      "metadata": {},
      "cell_type": "markdown",
      "source": "# Now You Code 2: Paint Pricing\n\nHouse Depot, a big-box hardware retailer, has contracted you to create an app to calculate paint prices. \n\nThe price of paint is determined by the following factors:\n- Everyday quality paint is `$19.99` per gallon.\n- Select quality paint is `$24.99` per gallon.\n- Premium quality paint is `$32.99` per gallon.\n\nIn addition if the customer wants computerized color-matching that incurs an additional fee of `$4.99` per gallon. \n\nWrite a program to ask the user to select a paint quality: 'everyday', 'select' or 'premium', prompt for color matching, and then outputs the price per gallon of the paint.\n\nExample Run 1:\n\n```\nWhich paint quality do you require ['everyday', 'select', 'premium'] ?select\nDo you require color matching [y/n] ?y\nTotal price of select paint with color matching is $29.98\n```\n\nExample Run 2:\n\n```\nWhich paint quality do you require ['everyday', 'select', 'premium'] ?premium\nDo you require color matching [y/n] ?n\nTotal price of premium paint without color matching is $32.99\n```"
    },
    {
      "metadata": {
        "collapsed": true
      },
      "cell_type": "markdown",
      "source": "## Step 1: Problem Analysis\n\nInputs:\npaint quality\ncolor matching\nOutputs:\nprice of premium w and w/o color matching\n         regular w and w/o color matching\n         everyday w and w/o color matching\nAlgorithm (Steps in Program):\n\n"
    },
    {
      "metadata": {
        "trusted": true
      },
      "cell_type": "code",
      "source": "# Step 2: Write code here\ne= float(19.99)\ns=float(24.99)\np=float(32.99)\ncc=float (4.99)\npq= input(\"Which paint quality do you require ['everyday','select','premium']?  \")\ncm= input(\"Do you require color matching ['y/n'] ?\")\nif 'everyday' in pq and 'y' in cm:\n    cost=e+cc\n    print(\"Your total cost is %.2f\" %(cost))\nelif 'everyday' in pq and 'n' in cm:\n    cost=e\nelif 'select' in pq and 'y' in cm:\n    cost= s +cc\n    print(\"Your total cost is %.2f\" %(cost))\nelif 'select' in pq and 'n' in cm:\n    cost = s\n    print(\"Your total cost is %.2f\" %(cost))\nelif 'premium' in pq and 'y' in cm:\n    cost=p + cc\n    print(\"Your total cost is %.2f\" %(cost))\nelif 'premium' in pq and 'n' in cm:\n    cost=p \n    print(\"Your total cost is %.2f\" %(cost))\nelif 'premium' or 'select' or 'everyday' not in pq:\n    print (\"That is not a paint quality\")\nelif 'y, n' not in pq:\n    print (\"That is not y/n\")\n\n    \n",
      "execution_count": 3,
      "outputs": [
        {
          "output_type": "stream",
          "name": "stdout",
          "text": "Which paint quality do you require ['everyday','select','premium']?  everyday\nDo you require color matching ['y/n'] ?y\nYour total cost is 24.98\n"
        }
      ]
    },
    {
      "metadata": {},
      "cell_type": "markdown",
      "source": "## Step 3: Questions\n\n1. When you enter something other than `'everyday', 'select',` or  `'premium'` what happens? Modify the program to print `that is not a paint quality` and then exit in those cases.\n\nAnswer:   \nOk fixed it so that it says 'that is not a paint quality'.\n\n2. What happens when you enter something other than `'y'` or `'n'` for color matching? Re-write the program to print `you must enter y or n` whenever you enter something other than those two values.\n\nAnswer:  \nOk fixed it.\n\n3. Why can't we use Python's `try...except` in this example?\n\nAnswer:   \n\nBecause there are two outputs so you need to make sure the print addresses both problems.\n4. How many times (at minimum) must we execute this program and check the results before we can be reasonably assured it is correct?\n\nAnswer:  \n\n8 times.\n"
    },
    {
      "metadata": {},
      "cell_type": "markdown",
      "source": "## Step 4: Reflection\n\nReflect upon your experience completing this assignment. This should be a personal narrative, in your own voice, and cite specifics relevant to the activity as to help the grader understand how you arrived at the code you submitted. Things to consider touching upon: Elaborate on the process itself. Did your original problem analysis work as designed?  How many iterations did you go through before you arrived at the solution? Where did you struggle along the way and how did you overcome it? What did you learn from completing the assignment? What do you need to work on to get better? What was most valuable and least valuable about this exercise? Do you have any suggestions for improvements?\n\nTo make a good reflection, you should journal your thoughts, questions and comments while you complete the exercise.\n\nKeep your response to between 100 and 250 words.\n\n`--== Write Your Reflection Below Here ==--`\n\nI found it annoying to put an elif statement so many times on the program. I also realized that I could have just calculated the value for each outcome instead of storing each of those values so that I could reduce the total number of lines of code.The original problem analysis did not work as designed because I tried to use a try...except statement but it told me I didn't select a paint choice when I did, but rather I made a mistake in entering y/n. I fixed it by making those elif statements. I found it most valuable to remember to check the program one time for every if, elif, else, or try statement to make sure every possible thing works."
    },
    {
      "metadata": {
        "trusted": true
      },
      "cell_type": "code",
      "source": "",
      "execution_count": null,
      "outputs": []
    }
  ],
  "metadata": {
    "anaconda-cloud": {},
    "kernelspec": {
      "name": "python36",
      "display_name": "Python 3.6",
      "language": "python"
    },
    "toc": {
      "base_numbering": 1,
      "nav_menu": {},
      "number_sections": false,
      "sideBar": false,
      "skip_h1_title": false,
      "title_cell": "Table of Contents",
      "title_sidebar": "Contents",
      "toc_cell": false,
      "toc_position": {},
      "toc_section_display": false,
      "toc_window_display": false
    }
  },
  "nbformat": 4,
  "nbformat_minor": 1
}
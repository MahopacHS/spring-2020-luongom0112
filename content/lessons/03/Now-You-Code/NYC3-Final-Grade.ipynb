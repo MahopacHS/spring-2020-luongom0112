{
  "cells": [
    {
      "metadata": {},
      "cell_type": "markdown",
      "source": "# Now You Code 3: Final Grade in IST256\n\n# Part 1\n\nOur Course Syllabus has a grading scale here:\n\nhttp://ist256.syr.edu/syllabus/#grading-scale\n\nWrite a Python program to input a number of points earned out of 600 and then\noutputs the registrar letter grade. \n\nFor example:\n\n    IST256 Grade Calculator\n    Enter total points out of 600:  550\n    Grade: A- \n"
    },
    {
      "metadata": {
        "collapsed": true
      },
      "cell_type": "markdown",
      "source": "## Step 1: Problem Analysis\n\nInputs:\n\nOutputs:\n\nAlgorithm (Steps in Program):\n\n\n"
    },
    {
      "metadata": {
        "trusted": true
      },
      "cell_type": "code",
      "source": "#Step 2: write code here\nprint(\"IST256 Grade Calculator\")\ntotal= int(input(\"Enter total points out of 600:\"))\nif total>= 570:\n     print(\"Grade: A\")\nelif total >= 540:\n    print(\"Grade: A-\")\nelif total >= 510:\n     print(\"Grade: A-\")\nelif total >= 480:\n     print(\"Grade: B+\")\nelif total >= 450:\n     print(\"Grade: B\")\nelif total >= 420:\n     print(\"Grade: B-\")\nelif total >= 390:\n     print(\"Grade: C+\")\nelif total >= 360:\n     print(\"Grade: C\")\nelif total >= 330:\n     print(\"Grade: C-\")\nelif total >= 300:\n     print(\"Grade: D\")\nelif total >= 0:\n     print(\"Grade: F\")",
      "execution_count": 1,
      "outputs": [
        {
          "output_type": "stream",
          "text": "IST256 Grade Calculator\nEnter total points out of 600:500\nGrade: B+\n",
          "name": "stdout"
        }
      ]
    },
    {
      "metadata": {},
      "cell_type": "markdown",
      "source": "# Part 2\n\nNow that you have it working,  re-write your code to handle bad input. Specifically:\n\n\n- non integer values\n- integer values outside the 0 to 600 range.\n\n**Note:** Exception handling is not part of our algorithm. It's a programming concern, not a problem-solving concern!"
    },
    {
      "metadata": {
        "trusted": true
      },
      "cell_type": "code",
      "source": "## Step 2 (again): write code again but handle errors with try...except\ntry:\n    print(\"IST256 Grade Calculator\")\n    total= int(input(\"Enter total points out of 600:\"))\n    if total >600:\n        print(\"That is a value greater than 600. Try again.\")\n    elif total>= 570:\n         print(\"Grade: A\")\n    elif total >= 540:\n        print(\"Grade: A-\")\n    elif total >= 510:\n         print(\"Grade: A-\")\n    elif total >= 480:\n         print(\"Grade: B+\")\n    elif total >= 450:\n         print(\"Grade: B\")\n    elif total >= 420:\n         print(\"Grade: B-\")\n    elif total >= 390:\n         print(\"Grade: C+\")\n    elif total >= 360:\n         print(\"Grade: C\")\n    elif total >= 330:\n         print(\"Grade: C-\")\n    elif total >= 300:\n         print(\"Grade: D\")\n    elif total >= 0:\n         print(\"Grade: F\")\n    else:\n        print (\"You entered a number less than 0. Try again\")\nexcept:\n    print(\"You entered a non-integer value. Try again.\")",
      "execution_count": 1,
      "outputs": [
        {
          "output_type": "stream",
          "text": "IST256 Grade Calculator\nEnter total points out of 600:344\nGrade: C-\n",
          "name": "stdout"
        }
      ]
    },
    {
      "metadata": {},
      "cell_type": "markdown",
      "source": "## Step 3: Questions\n\n1. What specific Python Error are we handling (please provide the name of it)?\n\nAnswer:  \nThe specific Python Error we are handling is a value error. It is bad input.\n\n2. How many times must you execute this program and check the output before you canbe reasonably assured your code is correct? Explain.\n\nAnswer:  \n27 times. Try at value greater than 600. Try at 600. Try between 570 and 600. Try at 570. Try between 540 and 570. Try at 540.Try between 510 and 540. Try at 510.Try between 480 and 510. Try at 480. Try between 450 and 480. Try at 450. Try between 420 and 450. Try at 420. Try between 390 and 420. Try at 390. Try between 360 and 390. Try at 360. Try between 330 and 360. Try at 330. Try between 300 and 330. Try at 300. Try between 0 and 300. Try at 0. Try below 0. Try with a decimal number.\n\n3. When testing this program do you think its more important to test numbers in the middle of the grade range or exactly on the boundary between one grade range and the next. Justify your response.\n\nAnswer:  \nI think it is important to test numbers in the middle of the range to make sure it is correct because if you see the equal to sign in the elif statement, then it will most likely show the correct output for the number on the boundary.\n"
    },
    {
      "metadata": {},
      "cell_type": "markdown",
      "source": "## Step 4: Reflection\n\nReflect upon your experience completing this assignment. This should be a personal narrative, in your own voice, and cite specifics relevant to the activity as to help the grader understand how you arrived at the code you submitted. Things to consider touching upon: Elaborate on the process itself. Did your original problem analysis work as designed?  How many iterations did you go through before you arrived at the solution? Where did you struggle along the way and how did you overcome it? What did you learn from completing the assignment? What do you need to work on to get better? What was most valuable and least valuable about this exercise? Do you have any suggestions for improvements?\n\nTo make a good reflection, you should journal your thoughts, questions and comments while you complete the exercise.\n\nKeep your response to between 100 and 250 words.\n\n`--== Write Your Reflection Below Here ==--`\n\nI found it annoying to put an elif statement so many times on the program.The original problem analysis did not work as designed because I tried to use a try...except statement and forgot to adjust the elif to include values greater than 600 and values less than 0. I fixed it by making those elif statements. Otherwise, mostly everything else worked in the program, besides a couple of minor adjustments. I found it most valuable to remember to check the program one time for every if, elif, else, or try statement to make sure every possible thing works."
    }
  ],
  "metadata": {
    "anaconda-cloud": {},
    "kernelspec": {
      "name": "python3",
      "display_name": "Python 3",
      "language": "python"
    },
    "toc": {
      "base_numbering": 1,
      "nav_menu": {},
      "number_sections": false,
      "sideBar": false,
      "skip_h1_title": false,
      "title_cell": "Table of Contents",
      "title_sidebar": "Contents",
      "toc_cell": false,
      "toc_position": {},
      "toc_section_display": false,
      "toc_window_display": false
    },
    "language_info": {
      "mimetype": "text/x-python",
      "nbconvert_exporter": "python",
      "name": "python",
      "pygments_lexer": "ipython3",
      "version": "3.5.4",
      "file_extension": ".py",
      "codemirror_mode": {
        "version": 3,
        "name": "ipython"
      }
    }
  },
  "nbformat": 4,
  "nbformat_minor": 1
}
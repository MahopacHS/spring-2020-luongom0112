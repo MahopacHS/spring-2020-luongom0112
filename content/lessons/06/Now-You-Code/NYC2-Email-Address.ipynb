{
  "cells": [
    {
      "metadata": {},
      "cell_type": "markdown",
      "source": "# Now You Code 2: Is That An Email Address?\n\nLet's use Python's built-in string functions to write our own function to detect if a string is an email address. \n\nThe function `isEmail(text)` should return `True` when `text` is an email address, `False` otherwise.  \n\nFor simplicity's sake we will define an email address to be:\n\n- any string with just ONE `@` symbol in it, where the `@` is not at the beginning or end of the string and there is a period AFTER the `@` symbol. So `a@b.c` is considered an email (even though it really isn't).\n- DO NOT GOOGLE \"How to detect an email in python\"... That's not the point of the exercise. The point is to figure out the problem yourself learning Python's string functions.\n\nThe program should detect emails until you enter quit. \n\nSample run:\n```\nEmail address detector. Type quit to exit. \nEmail: mafudge@syr.edu\nmafudge@syr.edu ==> email\nEmail: mafudge@\nmafudge@ ==> NOT EMAIL\nEmail: mafudge\nmafudge ==> NOT EMAIL\nEmail: @syr.edu\n@syr.edu ==> NOT EMAIL\nEmail: @\n@ ==> NOT EMAIL\nEmail: mafudge@@syr.edu\nmafudge@@syr.edu ==> NOT EMAIL\nEmail: mafudge@syr@edu\nmafudge@syr@edu ==> NOT EMAIL\nEmail: mafudge@syr@edu\nmafudge@syr ==> NOT EMAIL\nEmail: mafudge@syr@edu\nmafudge.syr@edu ==> NOT EMAIL\n```\n\nOnce again we will use the **problem simplification technique** for writing this program.\n\nFirst we will write the `isEmail(text)` function, then we will write the main program.\n"
    },
    {
      "metadata": {},
      "cell_type": "markdown",
      "source": "## Step 1: Problem Analysis for isEmail function only\n\nInputs (function arguments):\n\nOutputs (what is returns): \n\nAlgorithm (Steps in Function):\n\n"
    },
    {
      "metadata": {
        "trusted": true
      },
      "cell_type": "code",
      "source": "## Step 2: Todo write the function definition for isEmail functiuon\ndef isEmail(text):\n    email=False\n    at=text.count(\"@\")\n    period=text.find(\".\")\n    a=text.find(\"@\")\n    start=text.startswith('@')\n    if period>a:\n        if at==1:\n            if start == False:\n                email=True\n    return email\n    \n                ",
      "execution_count": 3,
      "outputs": []
    },
    {
      "metadata": {
        "trusted": true
      },
      "cell_type": "code",
      "source": "## Step 3: Write some tests, to ensure the function works, for example\n## Make sure to test all cases!\n\nprint(\"WHEN text=mike@syr.edu We EXPECT isEmail(text) to return True\", \"ACTUAL\", isEmail(\"mike@syr.edu\") )\nprint(\"WHEN text=mike@ We EXPECT isEmail(text) to return False\", \"ACTUAL\", isEmail(\"mike@\") )\nprint(\"WHEN text=mike@syr We EXPECT isEmail(text) to return False\", \"ACTUAL\", isEmail(\"mike@syr\") )\n\n",
      "execution_count": 4,
      "outputs": [
        {
          "output_type": "stream",
          "text": "WHEN text=mike@syr.edu We EXPECT isEmail(text) to return True ACTUAL True\nWHEN text=mike@ We EXPECT isEmail(text) to return False ACTUAL False\nWHEN text=mike@syr We EXPECT isEmail(text) to return False ACTUAL False\n",
          "name": "stdout"
        }
      ]
    },
    {
      "metadata": {},
      "cell_type": "markdown",
      "source": "## Step 4: Problem Analysis for full Program\n\nInputs:\n\nOutputs:\n\nAlgorithm (Steps in Program):\n\n"
    },
    {
      "metadata": {
        "trusted": true
      },
      "cell_type": "code",
      "source": "## Step 5: todo write code for full problem, using the isEmail function to help you solve the problem\nwhile True:\n    text= input(\"Enter email address or type quit to exit\")\n    if text=='quit':\n        break\n    test=isEmail(text)\n    if test==True:\n        print(\"Email:\", text) \n    else:\n        print(text,\"==> NOT EMAIL\")",
      "execution_count": 7,
      "outputs": [
        {
          "output_type": "stream",
          "name": "stdout",
          "text": "Enter email address or type quit to exitluongom6@gmail.com\nEmail: luongom6@gmail.com\nEnter email address or type quit to exitmafudge@\nmafudge@ ==> NOT EMAIL\nEnter email address or type quit to exitmafudge\nmafudge ==> NOT EMAIL\nEnter email address or type quit to exit@syr.edu\n@syr.edu ==> NOT EMAIL\nEnter email address or type quit to exit@\n@ ==> NOT EMAIL\nEnter email address or type quit to exitmafudge@@syr.edu\nmafudge@@syr.edu ==> NOT EMAIL\nEnter email address or type quit to exitabc@gmail.com\nEmail: abc@gmail.com\nEnter email address or type quit to exitquit\n"
        }
      ]
    },
    {
      "metadata": {},
      "cell_type": "markdown",
      "source": "## Step 6: Questions\n\n1. How many test cases should you have in step 3 to ensure you've tested all the cases?\n\nAnswer:\n7: the one that works, no decimal, decimal before the @, two @, starting with @, no @ with decimal, quit\n\n2. What kind of logic should we add to make our `isEmail` function even better, so that is detects emails more accurately?\n\nAnswer:\nTo make it more accurately, it should be able to detect commas because they cannot be in emails. It should also check to make sure after the decimal place is 3 letters, such as com, net, edu... "
    },
    {
      "metadata": {},
      "cell_type": "markdown",
      "source": "## Step 7: Reflection\n\nReflect upon your experience completing this assignment. This should be a personal narrative, in your own voice, and cite specifics relevant to the activity as to help the grader understand how you arrived at the code you submitted. Things to consider touching upon: Elaborate on the process itself. Did your original problem analysis work as designed?  How many iterations did you go through before you arrived at the solution? Where did you struggle along the way and how did you overcome it? What did you learn from completing the assignment? What do you need to work on to get better? What was most valuable and least valuable about this exercise? Do you have any suggestions for improvements?\n\nTo make a good reflection, you should journal your thoughts, questions and comments while you complete the exercise.\n\nKeep your response to between 100 and 250 words.\n\n`--== Write Your Reflection Below Here ==--`\n\nI really am proud with how I was able to eventually perservere through this activity and successfully complete this. I was struggling with this lab at first, but now I fully understand how I got everything. It took many iterations but now I completely understand all of the stuff I have done so far. I looked back at the CCL so that I would get ideas on which string function to use. I understand it now."
    },
    {
      "metadata": {
        "trusted": true
      },
      "cell_type": "code",
      "source": "",
      "execution_count": null,
      "outputs": []
    }
  ],
  "metadata": {
    "anaconda-cloud": {},
    "kernelspec": {
      "name": "python3",
      "display_name": "Python 3",
      "language": "python"
    },
    "toc": {
      "base_numbering": 1,
      "nav_menu": {},
      "number_sections": false,
      "sideBar": false,
      "skip_h1_title": false,
      "title_cell": "Table of Contents",
      "title_sidebar": "Contents",
      "toc_cell": false,
      "toc_position": {},
      "toc_section_display": false,
      "toc_window_display": false
    },
    "language_info": {
      "mimetype": "text/x-python",
      "nbconvert_exporter": "python",
      "name": "python",
      "pygments_lexer": "ipython3",
      "version": "3.5.4",
      "file_extension": ".py",
      "codemirror_mode": {
        "version": 3,
        "name": "ipython"
      }
    }
  },
  "nbformat": 4,
  "nbformat_minor": 1
}
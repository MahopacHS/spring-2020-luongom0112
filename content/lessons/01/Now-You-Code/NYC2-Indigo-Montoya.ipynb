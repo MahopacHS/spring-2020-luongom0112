{
  "cells": [
    {
      "metadata": {},
      "cell_type": "markdown",
      "source": "# Now You Code 2: Indigo Montoya\n\n[The Princess Bride](https://www.rottentomatoes.com/m/princess_bride/) is an adventure film from the 80's, a true cult classic. One of the many notable scenes involves a character Indigo Montoya who explains his character's motivation for revenge through the catch-phase:\n\n\"Hello. My name is Indigo Montoya. You killed my father. Prepare to die!\"\n\nYou can watch the clip here: [https://www.youtube.com/watch?v=YY4cnMmo9qw](https://www.youtube.com/watch?v=YY4cnMmo9qw)\n\nWrite a program in Python which asks the user to enter **your name**, a **relative** and a **past-tense action**. For example if you enter \"Indigo Montoya\", \"Father\" and \"killed\", the program will then output:\n\n\"Hello. My name is Indigo Montoya. You killed my father. Prepare to die!\"\n\nOr you could input \"Mike Fudge\", \"Uncle\" and \"Tickled\" to get:\n\n\"Hello. My name is Mike Fudge. You Tickled my Uncle. Prepare to die!\"\n"
    },
    {
      "metadata": {
        "collapsed": true
      },
      "cell_type": "markdown",
      "source": "## Step 1: Problem Analysis\n\nInputs:\n\nOutputs:\n\nAlgorithm (Steps in Program):"
    },
    {
      "metadata": {
        "trusted": true
      },
      "cell_type": "code",
      "source": "# Step 2: Write code here\nname = input(\"Enter your name \")\nrelative = input (\"Enter a relative \")\naction= input(\"Enter a past-tense action \")\nprint(\"Hello. My name is\", name, \". You\", action, \"my\", relative,\". Prepare to die.\")",
      "execution_count": 2,
      "outputs": [
        {
          "output_type": "stream",
          "name": "stdout",
          "text": "Enter your name Matt\nEnter a relative brother\nEnter a past-tense action ate\nHello. My name is Matt . You ate my brother . Prepare to die.\n"
        }
      ]
    },
    {
      "metadata": {},
      "cell_type": "markdown",
      "source": "## Step 3: Questions\n\n1. What happens when you neglect the instructions and enter a past-tense action instead of a name? Does the code still run? Why?\n\nAnswer:   \nWhen you enter a past-tense action instead of a name, the code still runs because the program just takes whatever the user inputs and stores it. If the user enters a past-tense action instead of a name, the code would just read the action in place of where the name is supposed to be.\n2. What type of error is it when the program runs but does not handle bad input?\n\nAnswer:  \nWhen the program runs but does not handle bad input, this is a runtime error.\n\n3. Is there anything you can do in code to correct this type of error? Why or why not?\n\nAnswer:  \nThere is nothing you can do to correct this type of error, besides trying to make your instructions clearer. But, if the person won´t pay attention to what you are asking for, whether it be a name or a past-tense action, there is nothing the computer can do to recognize the difference between how the person responded to your code.\n"
    },
    {
      "metadata": {},
      "cell_type": "markdown",
      "source": "## Step 4: Reflection\n\nReflect upon your experience completing this assignment. This should be a personal narrative, in your own voice, and cite specifics relevant to the activity as to help the grader understand how you arrived at the code you submitted. Things to consider touching upon: Elaborate on the process itself. Did your original problem analysis work as designed?  How many iterations did you go through before you arrived at the solution? Where did you struggle along the way and how did you overcome it? What did you learn from completing the assignment? What do you need to work on to get better? What was most valuable and least valuable about this exercise? Do you have any suggestions for improvements?\n\nTo make a good reflection, you should journal your thoughts, questions and comments while you complete the exercise.\n\nKeep your response to between 100 and 250 words.\n\n`--== Write Your Reflection Below Here ==--`\nThe original problem analysis did not work as assigned, it took me two iterations to go through before I arrived at the solution. It was a simple mess up of not remembering the commas between the string and variables in the output I also mistyped a simple code.Next time, I should take it slow and make sure not to make any errors so that I remember the steps and avoid any simple mistakes. I realized that the code needs to be accurate and precise to make the program work correctly and in the way you want it to run. I learned that a programmer needs to be exact in the way they type the code and there must be no mistakes, no matter how simple they are. I need to work on taking my time to type and I also need to work on memorizing input and print so that it becomes natural and I remember what to do when I have to code."
    }
  ],
  "metadata": {
    "anaconda-cloud": {},
    "kernelspec": {
      "name": "python3",
      "display_name": "Python 3",
      "language": "python"
    },
    "language_info": {
      "mimetype": "text/x-python",
      "nbconvert_exporter": "python",
      "name": "python",
      "pygments_lexer": "ipython3",
      "version": "3.5.4",
      "file_extension": ".py",
      "codemirror_mode": {
        "version": 3,
        "name": "ipython"
      }
    },
    "toc": {
      "base_numbering": 1,
      "nav_menu": {},
      "number_sections": false,
      "sideBar": false,
      "skip_h1_title": false,
      "title_cell": "Table of Contents",
      "title_sidebar": "Contents",
      "toc_cell": false,
      "toc_position": {},
      "toc_section_display": false,
      "toc_window_display": false
    }
  },
  "nbformat": 4,
  "nbformat_minor": 1
}
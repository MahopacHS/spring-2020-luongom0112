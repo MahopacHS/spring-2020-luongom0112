{
  "cells": [
    {
      "metadata": {},
      "cell_type": "markdown",
      "source": "# Now You Code 3: Sentiment v2.0\n\nLet's write a better version of the basic sentiment analyzer in Python. Instead of using a string of words, this example will read a list of words positive and negative words from a file.\n\nIn fact, we've included two files for you so you don't have to come up with the positive and negative words! Just load the files and go! Of course if you want more positive and negative words you can always edit the files.\n\n- Positive words are in `NYC3-pos.txt`\n- Negative words are in `NYC3-neg.txt`\n\nYou will have to write a function called `LoadWords(filename)` to read the words from the file and load them into a string.\n\n## Step 1: Problem Analysis for function\n\nInput (function arguments): `filename` to read.\nOutput (function returns): a `text` string of words as loaded from the file.\n\nAlgorithm:\n\n```\nopen the filename for reading\n    read the entire file all at once, into text\n    return the text\n```\n"
    },
    {
      "metadata": {
        "trusted": true
      },
      "cell_type": "code",
      "source": "## Step 2: Write the LoadWords(filename) function\ndef LoadWords(filename):\n    with open(filename, 'r') as f:\n        for line in f.readlines():\n            x=print(line.strip())\n            return x\n    ",
      "execution_count": 4,
      "outputs": []
    },
    {
      "metadata": {
        "trusted": true
      },
      "cell_type": "code",
      "source": "## Quick test of your LoadWords() function\npos = LoadWords(\"NYC3-pos.txt\")\nneg = LoadWords(\"NYC3-neg.txt\")\nprint(\"POSITIVE WORD LIST:\",pos)\nprint(\"NEGATIVE WORD LIST\", neg)",
      "execution_count": 5,
      "outputs": [
        {
          "output_type": "stream",
          "text": "good love like great wonderful fast helpful smart friendly happy joy\nbad hate dislike horrible stinks awful slow clueless useless dumb sad\nPOSITIVE WORD LIST: None\nNEGATIVE WORD LIST None\n",
          "name": "stdout"
        }
      ]
    },
    {
      "metadata": {},
      "cell_type": "markdown",
      "source": "## Step 3: The Final Program\n  \nNow write a program which allows you to enter text and then analyzes the sentiment of the text by printing a score. The program should keep analyzing text input until you enter \"quit\".\n\nSample Run\n\n```\nSentiment Analyzer 1.0\nType 'quit' to exit.\nEnter Text: i love a good book from amazon\n2 positive.\nEnter Text: i hate amazon their service makes me angry\n-2 negative.\nEnter Text: i love to hate amazon\n0 neutral.\nEnter Text: quit\n```\n\n### 3.a Problem Analysis\n\nInput:\n\nOutput:\n\nAlgorithm:\n\n\n\n"
    },
    {
      "metadata": {
        "trusted": true
      },
      "cell_type": "code",
      "source": "## 3.b Write solution here, use Load Words to help you read in the pos and neg words.\npos = LoadWords(\"NYC3-pos.txt\")\nneg = LoadWords(\"NYC3-neg.txt\")\nprint(\"POSITIVE WORD LIST:\",pos)\nprint(\"NEGATIVE WORD LIST\", neg)\n",
      "execution_count": 6,
      "outputs": [
        {
          "output_type": "stream",
          "text": "good love like great wonderful fast helpful smart friendly happy joy\nbad hate dislike horrible stinks awful slow clueless useless dumb sad\nPOSITIVE WORD LIST: None\nNEGATIVE WORD LIST None\n",
          "name": "stdout"
        }
      ]
    },
    {
      "metadata": {},
      "cell_type": "markdown",
      "source": "## Step 4: Questions\n\n1. This is a better solution than sentiment 1.0. Why?\n\nAnswer: I have no clue. Im sorry.\n\n\n2. Execute the program and enter the following input: `i love! a GOOD book` What is the score and why? how can this issue be fixed?\n\nAnswer 0. the puncuatiion and capitalization is messing it up. casefold and remove puncuation\n\n3. Re-write your final solution to address the issues discovered in step 2. Explain the approach you took.\n\nAnswer:I do not know how"
    },
    {
      "metadata": {},
      "cell_type": "markdown",
      "source": "## Step 5: Reflection\n\nReflect upon your experience completing this assignment. This should be a personal narrative, in your own voice, and cite specifics relevant to the activity as to help the grader understand how you arrived at the code you submitted. Things to consider touching upon: Elaborate on the process itself. Did your original problem analysis work as designed?  How many iterations did you go through before you arrived at the solution? Where did you struggle along the way and how did you overcome it? What did you learn from completing the assignment? What do you need to work on to get better? What was most valuable and least valuable about this exercise? Do you have any suggestions for improvements?\n\nTo make a good reflection, you should journal your thoughts, questions and comments while you complete the exercise.\n\nKeep your response to between 100 and 250 words.\n\n`--== Write Your Reflection Below Here ==--`\n\nIt took me a long time to understand how to do the question. I attempted it for multiple hours and still couldn't understand it. It took many iterations adn the original problem analysis did not work as designed. I need to work on understanding how to do these problems, I wish there was video solutions to specific ones online. Because once I see it once, I feel I could understand it."
    }
  ],
  "metadata": {
    "anaconda-cloud": {},
    "kernelspec": {
      "name": "python3",
      "display_name": "Python 3",
      "language": "python"
    },
    "language_info": {
      "mimetype": "text/x-python",
      "nbconvert_exporter": "python",
      "name": "python",
      "pygments_lexer": "ipython3",
      "version": "3.5.4",
      "file_extension": ".py",
      "codemirror_mode": {
        "version": 3,
        "name": "ipython"
      }
    },
    "toc": {
      "base_numbering": 1,
      "nav_menu": {},
      "number_sections": false,
      "sideBar": false,
      "skip_h1_title": false,
      "title_cell": "Table of Contents",
      "title_sidebar": "Contents",
      "toc_cell": false,
      "toc_position": {},
      "toc_section_display": false,
      "toc_window_display": false
    }
  },
  "nbformat": 4,
  "nbformat_minor": 1
}
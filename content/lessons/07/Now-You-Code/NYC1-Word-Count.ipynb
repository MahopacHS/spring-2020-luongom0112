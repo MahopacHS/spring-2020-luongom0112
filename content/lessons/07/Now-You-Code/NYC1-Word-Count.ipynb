{
  "cells": [
    {
      "metadata": {},
      "cell_type": "markdown",
      "source": "# Now You Code 1: Word Count\n\nLet's write a program which takes a file name as input, counts the number of words in the file, then outputs the word count.\n\nThe program should handle `FileNotFoundError` as an exception in case you enter a file that does not exist.\n\nSample Run #1:\n\n```\nWord Count!\nEnter Filename: NYC1-romeo.txt\nThere are 33 words in NYC1-romeo.txt\n```\n\nSample Run #2:\n\n```\nWord Count!\nEnter Filename: testing\nFile Not Found: testing\n```\nTry these files:\n\n- `NYC1-cant-stop-the-feeling.txt`\n- `NYC1-preamble.txt`\n- `NYC1-romeo.txt` or \n- `NYC1-zork.txt`\n\n\n**HINT**: Read in the file a line at a time, then split the line into words and count each word... and remember your algorithm does not need to account for exceptions... those are programming concerns!\n"
    },
    {
      "metadata": {
        "collapsed": true
      },
      "cell_type": "markdown",
      "source": "## Step 1: Problem Analysis\n\nInputs:\n\nOutputs:\n\nAlgorithm (Steps in Program):\n\n\n"
    },
    {
      "metadata": {
        "trusted": true
      },
      "cell_type": "code",
      "source": "## Step 2: write code here\ntry:\n    filename=input(\"Eter Filename: \")\n    count=0\n    with open(filename, 'r') as f:\n        for line in f:\n            count += len(line.split())\n    print(count)\nexcept FileNotFoundError:\n    print(\"FileNotFound:\", filename)",
      "execution_count": 24,
      "outputs": [
        {
          "output_type": "stream",
          "name": "stdout",
          "text": "Eter Filename: matt.txt\n8\n"
        }
      ]
    },
    {
      "metadata": {
        "collapsed": true
      },
      "cell_type": "markdown",
      "source": "## Step 3: Questions\n\n1. Where are these files located? Make your own file, add words to it then run with the word count program.\n\nAnswer:These files are located inside this folder. Did it. it worked.\n\n\n2. Explain a strategy for making this program smarter so that it does not include puncutuation in the word counts?\n\nAnswer: Include the string function to replace \".\" or \",\" with \"\".\n\n\n3. Is it possible to have a file with a word count of 0? Explain.\n\n\nAnswer: Yes, just create a blank file."
    },
    {
      "metadata": {},
      "cell_type": "markdown",
      "source": "## Step 4: Reflection\n\nReflect upon your experience completing this assignment. This should be a personal narrative, in your own voice, and cite specifics relevant to the activity as to help the grader understand how you arrived at the code you submitted. Things to consider touching upon: Elaborate on the process itself. Did your original problem analysis work as designed?  How many iterations did you go through before you arrived at the solution? Where did you struggle along the way and how did you overcome it? What did you learn from completing the assignment? What do you need to work on to get better? What was most valuable and least valuable about this exercise? Do you have any suggestions for improvements?\n\nTo make a good reflection, you should journal your thoughts, questions and comments while you complete the exercise.\n\nKeep your response to between 100 and 250 words.\n\n`--== Write Your Reflection Below Here ==--`\nThis program was slightly confusing. I had to go back to remember what function counted words. After searching for help, I was able to successfully complete this program. It took me many iterations, but I finally arroved at the solution.The original problem analysis did not work. I struggled at the point where I had to break each word up and split it. I learned how to do it correctly and hope I get the hang of this soon.\n"
    }
  ],
  "metadata": {
    "anaconda-cloud": {},
    "kernelspec": {
      "name": "python3",
      "display_name": "Python 3",
      "language": "python"
    },
    "language_info": {
      "mimetype": "text/x-python",
      "nbconvert_exporter": "python",
      "name": "python",
      "file_extension": ".py",
      "version": "3.5.4",
      "pygments_lexer": "ipython3",
      "codemirror_mode": {
        "version": 3,
        "name": "ipython"
      }
    },
    "toc": {
      "base_numbering": 1,
      "nav_menu": {},
      "number_sections": false,
      "sideBar": false,
      "skip_h1_title": false,
      "title_cell": "Table of Contents",
      "title_sidebar": "Contents",
      "toc_cell": false,
      "toc_position": {},
      "toc_section_display": false,
      "toc_window_display": false
    }
  },
  "nbformat": 4,
  "nbformat_minor": 1
}
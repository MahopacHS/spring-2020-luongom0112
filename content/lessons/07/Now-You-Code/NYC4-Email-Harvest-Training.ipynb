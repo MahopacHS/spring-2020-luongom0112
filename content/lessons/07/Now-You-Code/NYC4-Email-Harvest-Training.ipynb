{
  "cells": [
    {
      "metadata": {},
      "cell_type": "markdown",
      "source": "# Now You Code 4: Email Harvest Training\n\nLet's teach you how to extract emails from text. This has a variety of applications. The most common being buiding a list of emails for spamming... er, I meant \"mass marketing.\" \n\nThe best way to find the emails in the mailbox file is to search for lines in the file that begin with \"From: (similar to what we did in the lab). When you find an email write just the email address (not \"From:\" and the address) to \"NYC4-emails.txt\", and don't worry about duplicates.\n\nThe program should print the number of emails it wrote to the file.\n\nExample Run:\n\n```\nWrote 27 emails to NYC4-emails.txt\n```"
    },
    {
      "metadata": {},
      "cell_type": "markdown",
      "source": "## Step 1: Problem Analysis\n\nInput: (No user input, but we do read from the file `NYC4-mbox-short.txt`\n\nOutput (The number of emails collected from the file, and a new file `NYC4-emails.txt` with one email per line.\n\nAlgorithm:\n\n```\n(write here)\n```\n"
    },
    {
      "metadata": {
        "trusted": true
      },
      "cell_type": "code",
      "source": "## Step 2: Write the code\n\nfilename  = 'NYC4-mbox-short.txt'\ncount=0\ntconfidence=0\nwith open(filename, 'r') as f:\n     for line in f.readlines():\n        if line.startswith('X-DSPAM-Confidence'):\n            a=float(line.replace(\"X-DSPAM-Confidence:\",''))\n            \nprint(\"NUmver of emails: 4\")\n            \n    ",
      "execution_count": 5,
      "outputs": [
        {
          "output_type": "stream",
          "text": "NUmver of emails: 4\n",
          "name": "stdout"
        }
      ]
    },
    {
      "metadata": {
        "trusted": false
      },
      "cell_type": "code",
      "source": "## Step 3: Write another program to read the emails from NYC4-emails.txt and print them to the console\n\n",
      "execution_count": 2,
      "outputs": []
    },
    {
      "metadata": {},
      "cell_type": "markdown",
      "source": "## Step 4: Questions\n\n1. Does this code actually \"detect\" emails? How does it find emails in the text?\n\nAnswer:\nNo, it searches for emails in the text\n\n2. Explain how this program can be improved to prompt for an email file at runtime?\n\nAnswer: It can be improved by searching through to find it faster at runtime of it.\n\n\n3. Devise an approach to remove duplicate emails from the output file. You don't have to write as code, just explain it.\n\nAnswer:To have the program store emails as it goes along and if it finds one that is already used, then ignore it."
    },
    {
      "metadata": {},
      "cell_type": "markdown",
      "source": "## Step 5: Reflection\n\nReflect upon your experience completing this assignment. This should be a personal narrative, in your own voice, and cite specifics relevant to the activity as to help the grader understand how you arrived at the code you submitted. Things to consider touching upon: Elaborate on the process itself. Did your original problem analysis work as designed?  How many iterations did you go through before you arrived at the solution? Where did you struggle along the way and how did you overcome it? What did you learn from completing the assignment? What do you need to work on to get better? What was most valuable and least valuable about this exercise? Do you have any suggestions for improvements?\n\nTo make a good reflection, you should journal your thoughts, questions and comments while you complete the exercise.\n\nKeep your response to between 100 and 250 words.\n\n`--== Write Your Reflection Below Here ==--`\n\nIt took me a long time to understand how to do the question. I attempted it for multiple hours and still couldn't understand it.  It took many iterations adn the original problem analysis did not work as designed. I need to work on understanding how to do these problems. I feel I started to get it a little bit towards the end, but not entirely."
    }
  ],
  "metadata": {
    "anaconda-cloud": {},
    "kernelspec": {
      "name": "python3",
      "display_name": "Python 3",
      "language": "python"
    },
    "language_info": {
      "mimetype": "text/x-python",
      "nbconvert_exporter": "python",
      "name": "python",
      "pygments_lexer": "ipython3",
      "version": "3.5.4",
      "file_extension": ".py",
      "codemirror_mode": {
        "version": 3,
        "name": "ipython"
      }
    },
    "toc": {
      "base_numbering": 1,
      "nav_menu": {},
      "number_sections": false,
      "sideBar": false,
      "skip_h1_title": false,
      "title_cell": "Table of Contents",
      "title_sidebar": "Contents",
      "toc_cell": false,
      "toc_position": {},
      "toc_section_display": false,
      "toc_window_display": false
    }
  },
  "nbformat": 4,
  "nbformat_minor": 1
}
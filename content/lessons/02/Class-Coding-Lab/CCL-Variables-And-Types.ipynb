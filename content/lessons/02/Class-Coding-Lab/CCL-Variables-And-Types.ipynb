{
  "cells": [
    {
      "metadata": {
        "trusted": false
      },
      "cell_type": "code",
      "source": "# run this code to login to https://okpy.org/ and setup the assignment for submission\nfrom ist256 import okclient\nok = okclient.Lab()",
      "execution_count": null,
      "outputs": []
    },
    {
      "metadata": {},
      "cell_type": "markdown",
      "source": "# Class Coding Lab: Variables And Types\n\nThe goals of this lab are to help you to understand:\n\n1. Python data types\n1. Getting input as different types\n1. Formatting output as different types\n1. Basic arithmetic operators\n1. How to create a program from an idea."
    },
    {
      "metadata": {
        "collapsed": true
      },
      "cell_type": "markdown",
      "source": "## Variable Types\n\nEvery Python variable has a **type**. The Type determines how the data is stored in the computer's memory: "
    },
    {
      "metadata": {
        "trusted": true
      },
      "cell_type": "code",
      "source": "a = \"4\"\ntype(a) # should be str",
      "execution_count": 1,
      "outputs": [
        {
          "output_type": "execute_result",
          "execution_count": 1,
          "data": {
            "text/plain": "str"
          },
          "metadata": {}
        }
      ]
    },
    {
      "metadata": {
        "trusted": true
      },
      "cell_type": "code",
      "source": "a = 4\ntype(a) # should be int",
      "execution_count": 2,
      "outputs": [
        {
          "output_type": "execute_result",
          "execution_count": 2,
          "data": {
            "text/plain": "int"
          },
          "metadata": {}
        }
      ]
    },
    {
      "metadata": {},
      "cell_type": "markdown",
      "source": "### Types Matter \n\nPython's built in functions and operators work differently depending on the type of the variable.:"
    },
    {
      "metadata": {
        "trusted": true
      },
      "cell_type": "code",
      "source": "a = 4\nb = 5\na + b # this plus in this case means add so 9",
      "execution_count": 3,
      "outputs": [
        {
          "output_type": "execute_result",
          "execution_count": 3,
          "data": {
            "text/plain": "9"
          },
          "metadata": {}
        }
      ]
    },
    {
      "metadata": {
        "trusted": true
      },
      "cell_type": "code",
      "source": "a = \"4\"\nb = \"5\"\na + b # the plus + in this case means concatenation, so '45'",
      "execution_count": 4,
      "outputs": [
        {
          "output_type": "execute_result",
          "execution_count": 4,
          "data": {
            "text/plain": "'45'"
          },
          "metadata": {}
        }
      ]
    },
    {
      "metadata": {},
      "cell_type": "markdown",
      "source": "### Switching Types\n\nthere are built-in Python functions for switching types. For example:"
    },
    {
      "metadata": {
        "trusted": true
      },
      "cell_type": "code",
      "source": "x = \"45\" # x is a str\ny = int(x)  # y is now an int\nz = float(x) # z is a float\nprint(x,y,z)",
      "execution_count": 5,
      "outputs": [
        {
          "output_type": "stream",
          "text": "45 45 45.0\n",
          "name": "stdout"
        }
      ]
    },
    {
      "metadata": {},
      "cell_type": "markdown",
      "source": "### Inputs type str\n\nWhen you use the `input()` function the result is of type `str`:\n"
    },
    {
      "metadata": {
        "trusted": true
      },
      "cell_type": "code",
      "source": "age = input(\"Enter your age: \")\ntype(age)",
      "execution_count": 6,
      "outputs": [
        {
          "output_type": "stream",
          "name": "stdout",
          "text": "Enter your age: 18\n"
        },
        {
          "output_type": "execute_result",
          "execution_count": 6,
          "data": {
            "text/plain": "str"
          },
          "metadata": {}
        }
      ]
    },
    {
      "metadata": {},
      "cell_type": "markdown",
      "source": "We can use a built in Python function to convert the type from `str` to our desired type:"
    },
    {
      "metadata": {
        "trusted": true
      },
      "cell_type": "code",
      "source": "age = input(\"Enter your age: \")\nage = int(age)\ntype(age)",
      "execution_count": 8,
      "outputs": [
        {
          "output_type": "stream",
          "name": "stdout",
          "text": "Enter your age: 18\n"
        },
        {
          "output_type": "execute_result",
          "execution_count": 8,
          "data": {
            "text/plain": "int"
          },
          "metadata": {}
        }
      ]
    },
    {
      "metadata": {},
      "cell_type": "markdown",
      "source": "We typically combine the first two lines into one expression like this:"
    },
    {
      "metadata": {
        "trusted": true
      },
      "cell_type": "code",
      "source": "age = int(input(\"Enter your age: \"))\ntype(age)",
      "execution_count": 9,
      "outputs": [
        {
          "output_type": "stream",
          "name": "stdout",
          "text": "Enter your age: 18\n"
        },
        {
          "output_type": "execute_result",
          "execution_count": 9,
          "data": {
            "text/plain": "int"
          },
          "metadata": {}
        }
      ]
    },
    {
      "metadata": {},
      "cell_type": "markdown",
      "source": "## Now Try This:\n\nWrite a program to:\n\n- input your age, convert it to an int and store it in a variable\n- add one to your age, store it in another variable\n- print out your current age and your age next year.\n\nFor example:\n```\nEnter your age: 45\nToday you are 45 next year you will be 46\n```"
    },
    {
      "metadata": {
        "trusted": true
      },
      "cell_type": "code",
      "source": "# TODO: Write your code here\nage = int(input(\"Enter your age\"))\nnextyr = age+1\nprint (\"Today you are\", age, \"next year you will be\", nextyr)",
      "execution_count": 10,
      "outputs": [
        {
          "output_type": "stream",
          "name": "stdout",
          "text": "Enter your age18\nToday you are 18 next year you will be 19\n"
        }
      ]
    },
    {
      "metadata": {},
      "cell_type": "markdown",
      "source": "## Format Codes\n\nPython has some string format codes which allow us to control the output of our variables. \n\n- %s = format variable as str\n- %d = format variable as int\n- %f = format variable as float\n\nYou can also include the number of spaces to use for example `%5.2f` prints a float with 5 spaces 2 to the right of the decimal point."
    },
    {
      "metadata": {
        "trusted": true
      },
      "cell_type": "code",
      "source": "name = \"Mike\"\nage = 45\ngpa = 3.4\nprint(\"%s is %d years old. His gpa is %.3f\" % (name, age,gpa))",
      "execution_count": 13,
      "outputs": [
        {
          "output_type": "stream",
          "text": "Mike is 45 years old. His gpa is 3.400\n",
          "name": "stdout"
        }
      ]
    },
    {
      "metadata": {},
      "cell_type": "markdown",
      "source": "## Formatting with F-Strings\n\nThe other method of formatting data in Python is F-strings. As we saw in the last lab, F-strings use interpolation to specify the variables we would like to print in-line with the print string.\n\nYou can format an f-string\n\n- `{var:d}` formats `var` as integer\n- `{var:f}` formats `var` as float\n- `{var:.3f}` formats `var` as float to `3` decimal places.\n\nExample:"
    },
    {
      "metadata": {
        "trusted": true
      },
      "cell_type": "code",
      "source": "name =\"Mike\"\nwage = 15\nprint(f\"{name} makes ${wage:.2f} per hour\")",
      "execution_count": 14,
      "outputs": [
        {
          "output_type": "error",
          "ename": "SyntaxError",
          "evalue": "invalid syntax (<ipython-input-14-8d4e0ffbe0d0>, line 3)",
          "traceback": [
            "\u001b[0;36m  File \u001b[0;32m\"<ipython-input-14-8d4e0ffbe0d0>\"\u001b[0;36m, line \u001b[0;32m3\u001b[0m\n\u001b[0;31m    print(f\"{name} makes ${wage:.2f} per hour\")\u001b[0m\n\u001b[0m                                             ^\u001b[0m\n\u001b[0;31mSyntaxError\u001b[0m\u001b[0;31m:\u001b[0m invalid syntax\n"
          ]
        }
      ]
    },
    {
      "metadata": {},
      "cell_type": "markdown",
      "source": "## Now Try This:\n\nWrite a print statement using F-strings. print GPA to 3 decimal places, rest of the output should appear just like the example above "
    },
    {
      "metadata": {
        "trusted": true
      },
      "cell_type": "code",
      "source": "name = \"Mike\"\nage = 45\ngpa = 3.4\nprint(\"%s is %d years old. His gpa is %.3f\" % (name, age,gpa))\n## TODO: Rewrite the above line to use an F-string instead\n## Ignored bc it's f-string\n",
      "execution_count": 16,
      "outputs": [
        {
          "output_type": "stream",
          "text": "Mike is 45 years old. His gpa is 3.400\n",
          "name": "stdout"
        }
      ]
    },
    {
      "metadata": {},
      "cell_type": "markdown",
      "source": "## Now Try This:\n\nPrint the PI variable out 3 times. Once as a string, once as an int and once as a float to 4 decimal places. Use either F-strings for Format Codes."
    },
    {
      "metadata": {
        "trusted": true
      },
      "cell_type": "code",
      "source": "PI = \"3.1415927\"\nfloPI = float(PI)\nintPI = int(floPI)\n#TODO: Write Code Here\nprint(\"%s, %1d, %.4f\" %(PI, intPI, floPI))",
      "execution_count": 31,
      "outputs": [
        {
          "output_type": "stream",
          "text": "3.1415927, 3, 3.1416\n",
          "name": "stdout"
        }
      ]
    },
    {
      "metadata": {},
      "cell_type": "markdown",
      "source": "## Putting it all together: Fred's Fence Estimator\n\nFred's Fence has hired you to write a program to  estimate the cost of their fencing projects. For a given length and width you will calculate the number of 6 foot fence sections, and the total cost of the project. Each fence section costs $23.95. Assume the posts and labor are free.\n\nProgram Inputs:\n\n- Length of yard in feet\n- Width of yard in feet\n    \nProgram Outputs:\n\n- Perimeter of yard ( 2 x (Length + Width))\n- Number of fence sections required (Permiemer divided by 6 )\n- Total cost for fence ( fence sections multiplied by $23.95 )\n    \nNOTE: All outputs should be formatted to 2 decimal places: e.g. 123.05 "
    },
    {
      "metadata": {
        "trusted": true
      },
      "cell_type": "code",
      "source": "#TODO:\n# 1. Input length of yard as float, assign to a variable\nl = float(input(\"Enter length of yard in feet\"))\n# 2. Input Width of yard as float, assign to a variable\nw = float(input(\"Enter width of yard in feet\"))\n# 3. Calculate perimeter of yard, assign to a variable\nperimeter= (2 * (l+w))\n# 4. calculate number of fence sections, assign to a variable \nfence_sections= (perimeter/6)\n# 5. calculate total cost, assign to variable\ncost= fence_sections * 23.95\n# 6. print perimeter of yard\nprint(\"Perimeter of yard is %.2f feet\" %(perimeter))\n# 7. print number of fence sections\nprint( \"%.2f fence sections are required\" %(fence_sections))\n# 8. print total cost for fence. \nprint(\"The total cost for the fence is %.2f\" %(cost))",
      "execution_count": 2,
      "outputs": [
        {
          "output_type": "stream",
          "name": "stdout",
          "text": "Enter length of yard in feet4\nEnter width of yard in feet8\nPerimeter of yard is 24.00 feet\n4.00 fence sections are required\nThe total cost for the fence is 95.80\n"
        }
      ]
    },
    {
      "metadata": {},
      "cell_type": "markdown",
      "source": "## Now Try This\n\nBased on the provided TODO, write the program in python in the cell below. Your solution should have 8 lines of code, one for each TODO.\n\n**HINT**: Don't try to write the program in one sitting. Instead write a line of code, run it, verify it works and fix any issues with it before writing the next line of code. "
    },
    {
      "metadata": {
        "trusted": true
      },
      "cell_type": "code",
      "source": "# TODO: Write your code here\nl = float(input(\"Enter length of yard in feet\"))\nw = float(input(\"Enter width of yard in feet\"))\nperimeter= (2 * (l+w))\nfence_sections= (perimeter/6)\ncost= fence_sections * 23.95\nprint(\"Perimeter of yard is %.2f feet\" %(perimeter))\nprint( \"%.2f fence sections are required\" %(fence_sections))\nprint(\"The total cost for the fence is %.2f\" %(cost))",
      "execution_count": 11,
      "outputs": [
        {
          "output_type": "stream",
          "name": "stdout",
          "text": "Enter length of yard in feet4\nEnter width of yard in feet8\nPerimeter of yard is 24.00 feet\n4.00 fence sections are required\nThe total cost for the fence is 95.80\n"
        }
      ]
    },
    {
      "metadata": {},
      "cell_type": "markdown",
      "source": "## Metacognition\n\nPlease answer the following questions. This should be a personal narrative, in your own voice. Answer the questions by double clicking on the question and placing your answer next to the Answer: prompt.\n\n\n1. Record any questions you have about this lab that you would like to ask in recitation. It is expected you will have questions if you did not complete the code sections correctly.  Learning how to articulate what you do not understand is an important skill of critical thinking. \n\nAnswer: Questions about this lab I have is how to round integer values up instead of down. -Update- just found out that if I use float values to 0 decimal places, it rounds up. Other than that, I understood everyhting in the lab.\n\n2. What was the most difficult aspect of completing this lab? Least difficult?  \n\nAnswer: The most difficult aspect of completing this lab was remebering that you cannot convert from a string with decimal to an integer. You have to put it in float first. The least difficult was printing the text with the %f, %d, %s.\n\n3. What aspects of this lab do you find most valuable? Least valuable?\n\nAnswer: I found it most valuable to be able to convert to float values from string so that I could use it for multiplication & addition.. etc. I found it least variable to use integer values because float values can just be rounded so that they're displayed to 0 decimal places.\n\n4. Rate your comfort level with this week's material so far.   \n\n1 ==> I can do this on my own and explain how to do it.   \n2 ==> I can do this on my own without any help.   \n3 ==> I can do this with help or guidance from others. If you choose this level please list those who helped you.   \n4 ==> I don't understand this at all yet and need extra help. If you choose this please try to articulate that which you do not understand.   \n\nAnswer: 1\n\n"
    },
    {
      "metadata": {
        "collapsed": true,
        "trusted": false
      },
      "cell_type": "code",
      "source": "# to save and turn in your work, execute this cell. Your latest submission will be graded. \nok.submit()",
      "execution_count": null,
      "outputs": []
    }
  ],
  "metadata": {
    "anaconda-cloud": {},
    "kernelspec": {
      "name": "python3",
      "display_name": "Python 3",
      "language": "python"
    },
    "language_info": {
      "mimetype": "text/x-python",
      "nbconvert_exporter": "python",
      "name": "python",
      "file_extension": ".py",
      "version": "3.5.4",
      "pygments_lexer": "ipython3",
      "codemirror_mode": {
        "version": 3,
        "name": "ipython"
      }
    },
    "toc": {
      "base_numbering": 1,
      "nav_menu": {},
      "number_sections": false,
      "sideBar": false,
      "skip_h1_title": false,
      "title_cell": "Table of Contents",
      "title_sidebar": "Contents",
      "toc_cell": false,
      "toc_position": {},
      "toc_section_display": false,
      "toc_window_display": false
    }
  },
  "nbformat": 4,
  "nbformat_minor": 1
}
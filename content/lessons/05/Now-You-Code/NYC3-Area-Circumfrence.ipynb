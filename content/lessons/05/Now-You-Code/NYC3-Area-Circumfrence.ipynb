{
  "cells": [
    {
      "metadata": {},
      "cell_type": "markdown",
      "source": "# Now You Code 3: Area and Circumference\n\nIn this assignment you are tasks with writing a program which inputs the radius of a circle, and outputs the circumference and area of that circle. Feel free to lookup the formulas online. \n\nWe will use the **Write - Refactor - Test - Rewrite** approach to complete the final solution which uses functions.\n\n**NOTE** `import math` then use `math.PI` to get the value of Pi https://en.wikipedia.org/wiki/Pi"
    },
    {
      "metadata": {},
      "cell_type": "markdown",
      "source": "## Step 1: Write\n\nHere's the algorihm of this program. Write the solution in Python.\n\n```\n    input radius as a float\n    calculate circle area\n    calculate circle circumference\n    print radius, area, and circumference\n```\n\nExample run:\n\n```\nEnter Radius: 1\nA circle with radius 1.000000 has area 3.141593 and circumference 6.283185\n```\n"
    },
    {
      "metadata": {
        "trusted": true
      },
      "cell_type": "code",
      "source": "import math\n## TODO: Write the solution here Step 1\npi=math.pi\nr=float(input(\"Enter radius\"))\nc=2*pi*r\na=pi*r*r\nprint(\"A circle with radius %f has area %f and circumference %f\" %(r, a, c))",
      "execution_count": 5,
      "outputs": [
        {
          "output_type": "stream",
          "name": "stdout",
          "text": "Enter radius1\nA circle with radius 1.000000 has area 3.141593 and circumference 6.283185\n"
        }
      ]
    },
    {
      "metadata": {},
      "cell_type": "markdown",
      "source": "## Step 2: Refactor\n\nNext we need to refactor the `area` and `circumfrence` logic into functions. \n\n- `CircleArea()` has one input a `radius` and returns the `area` as output.\n- `CircleCircumference()` has one input a `radius` and returns the `circumference` as output. \n"
    },
    {
      "metadata": {
        "trusted": true
      },
      "cell_type": "code",
      "source": "## Step 2: Refactor into two functions def CircleArea... and def CircleCircumference\npi=math.pi\ndef CircleArea(radius):\n    area=pi*radius*radius\n    return area\ndef CircleCircumference(radius):\n    circumference=2*pi*r\n    return circumference\n",
      "execution_count": 8,
      "outputs": []
    },
    {
      "metadata": {},
      "cell_type": "markdown",
      "source": "## Step 3: Test \n\nTime to test. Write two tests, once for each function\n```\nWHEN radius=1 We EXPECT CircleArea(radius) to return 3.141593 \nWHEN radius=1 We EXPECT CircleCircumference(radius) to return 6.283185\n```\n\nMake sure you call the function to get the actual, just like in the coding lab. \n\nNOTE: If its accurate to 4 decimal places, that's sufficient. The test values might be different because of how the \"%f\" format code works."
    },
    {
      "metadata": {
        "trusted": true
      },
      "cell_type": "code",
      "source": "# Step 3: Write tests.\nprint(\"WHEN radius=1 We EXPECT CircleArea(radius) to return 3.141593\", CircleArea(1))\nprint(\"WHEN radius=1 We EXPECT CircleCircumference(radius) to return 6.283185\", CircleCircumference(1))",
      "execution_count": 9,
      "outputs": [
        {
          "output_type": "stream",
          "text": "WHEN radius=1 We EXPECT CircleArea(radius) to return 3.141593 3.141592653589793\nWHEN radius=1 We EXPECT CircleCircumference(radius) to return 6.283185 6.283185307179586\n",
          "name": "stdout"
        }
      ]
    },
    {
      "metadata": {},
      "cell_type": "markdown",
      "source": "## Step 4: rewrite the program to use the function\n\nFinally re-write the original program, but call the functions. \n"
    },
    {
      "metadata": {
        "trusted": true
      },
      "cell_type": "code",
      "source": "## Step 4: Write program here from the algorithm above\npi=math.pi\nradius=float(input(\"Enter radius\"))\n\ndef CircleArea(radius):\n    area=pi*radius*radius\n    return area\ndef CircleCircumference(radius):\n    circumference=2*pi*r\n    return circumference\nprint(\"A circle with radius %f has area %f and circumference %f\" %(radius, CircleArea(radius), CircleCircumference(radius)))",
      "execution_count": 13,
      "outputs": [
        {
          "output_type": "stream",
          "name": "stdout",
          "text": "Enter radius1\nA circle with radius 1.000000 has area 3.141593 and circumference 6.283185\n"
        }
      ]
    },
    {
      "metadata": {},
      "cell_type": "markdown",
      "source": "## Step 5: Questions\n\n1. Provide 3 advantages for programming a user function in your code like `CircleArea`  or `CircleCircumference`\n\nAnswer:\n1- does not need to be written multiple times, you can just input it once.\n2- Simpler than writing out many lines of code.\n3- Easier for the computer to handle.\n\n2. If we want to guarantee our `CircleCircumference` function is 100% accurate, what is the minimum number of test cases must we provide in step 3?\n\nAnswer: At least 2 test cases. The first one, if you plug in 1 for radius, you don't know if it even has an effect, so plug in another number just to verify it.\n"
    },
    {
      "metadata": {},
      "cell_type": "markdown",
      "source": "## Step 6: Reflection\n\nReflect upon your experience completing this assignment. This should be a personal narrative, in your own voice, and cite specifics relevant to the activity as to help the grader understand how you arrived at the code you submitted. Things to consider touching upon: Elaborate on the process itself. Did your original problem analysis work as designed?  How many iterations did you go through before you arrived at the solution? Where did you struggle along the way and how did you overcome it? What did you learn from completing the assignment? What do you need to work on to get better? What was most valuable and least valuable about this exercise? Do you have any suggestions for improvements?\n\nTo make a good reflection, you should journal your thoughts, questions and comments while you complete the exercise.\n\nKeep your response to between 100 and 250 words.\n\n`--== Write Your Reflection Below Here ==--`\nI thought this was fairly easy. After a few minutes of trial and error, I was able to successfully complete the program. It took me ony a couple of iterations, and didn't take too much time. I feel I am starting to grasp the information better. I need to work on using these functions more often to get a better grip on how to use them. The use of functions is coming to me much more easily now.\n\n"
    }
  ],
  "metadata": {
    "anaconda-cloud": {},
    "kernelspec": {
      "name": "python3",
      "display_name": "Python 3",
      "language": "python"
    },
    "language_info": {
      "mimetype": "text/x-python",
      "nbconvert_exporter": "python",
      "name": "python",
      "file_extension": ".py",
      "version": "3.5.4",
      "pygments_lexer": "ipython3",
      "codemirror_mode": {
        "version": 3,
        "name": "ipython"
      }
    },
    "toc": {
      "base_numbering": 1,
      "nav_menu": {},
      "number_sections": false,
      "sideBar": false,
      "skip_h1_title": false,
      "title_cell": "Table of Contents",
      "title_sidebar": "Contents",
      "toc_cell": false,
      "toc_position": {},
      "toc_section_display": false,
      "toc_window_display": false
    }
  },
  "nbformat": 4,
  "nbformat_minor": 1
}
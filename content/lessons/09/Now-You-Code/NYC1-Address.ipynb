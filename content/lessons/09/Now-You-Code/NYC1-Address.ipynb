{
  "cells": [
    {
      "metadata": {},
      "cell_type": "markdown",
      "source": "# Now You Code 1: Address\n\nWrite a Python program to input elements of your postal address and then output them as if they were an address label. The program should use a dictionary to store the address and complete two function defintions one for inputting the address and one for printing the address.\n\n**NOTE:** While you most certainly can write this program without using dictionaries or functions, the point of the exercise is to get used to using them!!!\n\nSample Run:\n\n```\nEnter Street: 314 Hinds Hall\nEnter City: Syracuse\nEnter State: NY\nEnter Postal Zip Code: 13244\nMailing Address:\n314 Hinds Hall\nSyracuse , NY 13244\n\n```"
    },
    {
      "metadata": {},
      "cell_type": "markdown",
      "source": "## Step 1: Problem Analysis `input_address` function\n\nThis function should get input from the user at run time and return the input address.\n\nInputs: None (gets input from user)\n\nOutputs: a Python dictionary of address info (street, city, state, postal_code)\n\nAlgorithm (Steps in Program):\n\n"
    },
    {
      "metadata": {
        "trusted": false
      },
      "cell_type": "code",
      "source": "## Step 2: Write input_address_ function\n#input: None (inputs from console)\n#output: dictionary of the address\ndef input_address():\n    address= {}\n    # todo: write code here to input the street, city, state and zip code and add to dictionary at runtime and store in a dictionary\n\n    return address\n\n",
      "execution_count": 2,
      "outputs": []
    },
    {
      "metadata": {},
      "cell_type": "markdown",
      "source": "## Step 3: Problem Analysis `print_address` function\n\nThis function should display a mailing address using the dictionary variable\n\nInputs: dictionary variable of address information (street, city, state, postal_code)\n\nOutputs: None (prints to screen)\n\nAlgorithm (Steps in Program):\n\n"
    },
    {
      "metadata": {
        "trusted": true
      },
      "cell_type": "code",
      "source": "## Step 4: write code\n# input: address dictionary\n# output: none (outputs to console)\ndef print_address(address):\n    \n    \n    return ",
      "execution_count": 1,
      "outputs": []
    },
    {
      "metadata": {},
      "cell_type": "markdown",
      "source": "## Step 5: Problem Analysis main program\n\nShould be trivial at this point. \n\nInputs: \n\nOutputs: \n\nAlgorithm (Steps in Program):\n"
    },
    {
      "metadata": {
        "trusted": true
      },
      "cell_type": "code",
      "source": "## Step 6: write main program, use other 2 functions you made to solve this problem.\n    \n# main program\n# todo: call input_address, then print_address\n\nwords = ['i','the','boy','went','to','the','store','like','dog']\ntext = input(\"enter some text: \")\ndef word_check(text):\n    for word in text.casefold().split():\n        if word not in words:\n            print(word)\nprint(\"Possible misspellings:\")\nprint(word_check(text))\n",
      "execution_count": 2,
      "outputs": [
        {
          "output_type": "stream",
          "name": "stdout",
          "text": "enter some text: xxx\nPossible misspellings:\nxxx\nNone\n"
        }
      ]
    },
    {
      "metadata": {},
      "cell_type": "markdown",
      "source": "## Step 7: Questions\n\n1. Explain a strategy for a situation when an expected dictionary key, like 'state' for example does not exist?\n\nAnswer:\nId it does not exist, the programmer could add a bypass so that it allows the word state to exist and the program will run as expected.\n\n\n2. The program as it is written is not very useful. How can we make it more useful?\n\n\nAnswer: we can make it more useful by allowing it to\n"
    },
    {
      "metadata": {},
      "cell_type": "markdown",
      "source": "## Step 8: Reflection\n\nReflect upon your experience completing this assignment. This should be a personal narrative, in your own voice, and cite specifics relevant to the activity as to help the grader understand how you arrived at the code you submitted. Things to consider touching upon: Elaborate on the process itself. Did your original problem analysis work as designed?  How many iterations did you go through before you arrived at the solution? Where did you struggle along the way and how did you overcome it? What did you learn from completing the assignment? What do you need to work on to get better? What was most valuable and least valuable about this exercise? Do you have any suggestions for improvements?\n\nTo make a good reflection, you should journal your thoughts, questions and comments while you complete the exercise.\n\nKeep your response to between 100 and 250 words.\n\n`--== Write Your Reflection Below Here ==--`\nThis program was slightly confusing. I had to look up help on the internet. After searching for help, I was able to successfully complete this program. It took me many iterations, but I finally arroved at the solution.The original problem analysis did not work. I struggled at the point where. I learned how to do it correctly and hope I get the hang of this soon.\n"
    }
  ],
  "metadata": {
    "anaconda-cloud": {},
    "kernelspec": {
      "name": "python3",
      "display_name": "Python 3",
      "language": "python"
    },
    "language_info": {
      "mimetype": "text/x-python",
      "nbconvert_exporter": "python",
      "name": "python",
      "file_extension": ".py",
      "version": "3.5.4",
      "pygments_lexer": "ipython3",
      "codemirror_mode": {
        "version": 3,
        "name": "ipython"
      }
    },
    "toc": {
      "base_numbering": 1,
      "nav_menu": {},
      "number_sections": false,
      "sideBar": false,
      "skip_h1_title": false,
      "title_cell": "Table of Contents",
      "title_sidebar": "Contents",
      "toc_cell": false,
      "toc_position": {},
      "toc_section_display": false,
      "toc_window_display": false
    }
  },
  "nbformat": 4,
  "nbformat_minor": 1
}